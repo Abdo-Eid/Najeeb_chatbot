{
 "cells": [
  {
   "cell_type": "markdown",
   "id": "3ee88cc9",
   "metadata": {},
   "source": [
    "# CAMeL tools pipeline\n",
    "\n",
    "```bash\n",
    "pip install camel_tools\n",
    "camel_data -i disambig-mle-calima-msa-r13\n",
    "```"
   ]
  },
  {
   "cell_type": "markdown",
   "id": "7828a677",
   "metadata": {},
   "source": [
    "### ازالة التشكيل"
   ]
  },
  {
   "cell_type": "code",
   "execution_count": 1,
   "id": "e025c67c",
   "metadata": {},
   "outputs": [
    {
     "name": "stdout",
     "output_type": "stream",
     "text": [
      ".يجب ألا تنطبق على مالك البطاقة شروط الاستبعاد من التموين. يجب أن يكون المواطن عضوا فى البطاقة وليس رب الأسرة، لأن رب الأسرة لا يمكن فصله\n"
     ]
    }
   ],
   "source": [
    "\n",
    "# Example Arabic text\n",
    "# text = \"وَالْعَصْرِ إِنَّ الْإِنْسَانَ لَفِي خُسْرٍ\"\n",
    "\n",
    "text = \".يجب ألا تنطبق على مالك البطاقة شروط الاستبعاد من التموين. يجب أن يكون المواطن عضوًا فى البطاقة وليس رب الأسرة، لأن رب الأسرة لا يمكن فصله\"\n",
    "\n",
    "\n",
    "from camel_tools.utils.dediac import dediac_ar\n",
    "\n",
    "clean_text = dediac_ar(text)\n",
    "\n",
    "\n",
    "print(clean_text)\n"
   ]
  },
  {
   "cell_type": "markdown",
   "id": "cd370aa0",
   "metadata": {},
   "source": [
    "### Normalization\n",
    "compining every thing in one function"
   ]
  },
  {
   "cell_type": "code",
   "execution_count": 2,
   "id": "e1bc397a",
   "metadata": {},
   "outputs": [],
   "source": [
    "from camel_tools.utils.normalize import normalize_unicode, normalize_alef_maksura_ar, normalize_alef_ar, normalize_teh_marbuta_ar\n",
    "\n",
    "def normalize_arabic_text(text):\n",
    "    \"\"\"\n",
    "    Normalizes Arabic text by:\n",
    "    1. Converting أ/إ/آ to ا [[3]]\n",
    "    2. Normalizing ي to ى where appropriate [[3]]\n",
    "    3. Handling common Unicode character variations [[9]]\n",
    "    4. Removing diacritics (optional, requires separate function)\n",
    "    \"\"\"\n",
    "    # Step 1: Basic Unicode normalization\n",
    "    normalized_text = normalize_unicode(text)\n",
    "    \n",
    "    # Step 2: Apply specific character normalizations\n",
    "    normalized_text = normalize_alef_ar(normalized_text)    # Convert إأآ to ا\n",
    "    normalized_text = normalize_alef_maksura_ar(normalized_text)  # Normalize ي/ى\n",
    "    normalized_text = normalize_teh_marbuta_ar(normalized_text)   # Normalize ة to ه\n",
    "    \n",
    "    return normalized_text\n"
   ]
  },
  {
   "cell_type": "code",
   "execution_count": 3,
   "id": "4b0bdcf5",
   "metadata": {},
   "outputs": [
    {
     "name": "stdout",
     "output_type": "stream",
     "text": [
      ".يجب الا تنطبق علي مالك البطاقه شروط الاستبعاد من التموين. يجب ان يكون المواطن عضوا في البطاقه وليس رب الاسره، لان رب الاسره لا يمكن فصله\n"
     ]
    }
   ],
   "source": [
    "norm_text = normalize_arabic_text(clean_text)\n",
    "print(norm_text)"
   ]
  },
  {
   "cell_type": "markdown",
   "id": "8222bb0c",
   "metadata": {},
   "source": [
    "### tokenization\n",
    "this is a helper function instead of using `split` for the next step which is the actual tokanization step"
   ]
  },
  {
   "cell_type": "code",
   "execution_count": 4,
   "id": "4acd9726",
   "metadata": {},
   "outputs": [
    {
     "name": "stdout",
     "output_type": "stream",
     "text": [
      "['.', 'يجب', 'ألا', 'تنطبق', 'على', 'مالك', 'البطاقة', 'شروط', 'الاستبعاد', 'من', 'التموين', '.', 'يجب', 'أن', 'يكون', 'المواطن', 'عضوًا', 'فى', 'البطاقة', 'وليس', 'رب', 'الأسرة', '،', 'لأن', 'رب', 'الأسرة', 'لا', 'يمكن', 'فصله']\n"
     ]
    }
   ],
   "source": [
    "from camel_tools.tokenizers.word import simple_word_tokenize\n",
    "\n",
    "tokens = simple_word_tokenize(text)\n",
    "print(tokens)"
   ]
  },
  {
   "cell_type": "markdown",
   "id": "1f7e3b32",
   "metadata": {},
   "source": [
    "Need for Morphological Analysis: Effective Arabic tokenization often requires a degree of morphological analysis to separate these clitics (attached particles) from the core word. For example, the word \"وبكتابهم\" (wa bi-kitābihim - \"and with their book\") might need to be tokenized into [\"و\" , \"بـ\" , \"كتاب\" , \"ـهم\"]."
   ]
  },
  {
   "cell_type": "markdown",
   "id": "0c2b7b6d",
   "metadata": {},
   "source": [
    "##### using D3 tokenizer\n",
    "- we first get `MLEDisambiguator` which analyse the word and pre-train it on `disambig-mle-calima-msa-r13` MLE model for disambiguating Modern Standard Arabic, (MLE disambiguator that uses a Maximum Likelihood Estimation model.)\n",
    "- then we make a tokenizer instance then tokenize the tokens from the `simple_word_tokenize`\n",
    "> note that any tokenizer give better results when geven the word diacritized \"مشكله\" and result in words that is undiacritized\n",
    "\n",
    "\n",
    "**it's too slow i will try another type**\n"
   ]
  },
  {
   "cell_type": "code",
   "execution_count": 5,
   "id": "b7085fe9",
   "metadata": {},
   "outputs": [
    {
     "name": "stdout",
     "output_type": "stream",
     "text": [
      "['.', 'يجب', 'أن', '+لا', 'تنطبق', 'على', 'مالك', 'ال+', 'بطاقة', 'شروط', 'ال+', 'استبعاد', 'من', 'ال+', 'تموين', '.', 'يجب', 'أن', 'يكون', 'ال+', 'مواطن', 'عضوا', 'في', 'ال+', 'بطاقة', 'و+', 'ليس', 'رب', 'ال+', 'أسرة', '،', 'ل+', 'أن', 'رب', 'ال+', 'أسرة', 'لا', 'يمكن', 'فصل', '+ه']\n"
     ]
    }
   ],
   "source": [
    "from camel_tools.tokenizers.morphological import MorphologicalTokenizer\n",
    "from camel_tools.disambig.mle import MLEDisambiguator\n",
    "\n",
    "mle_msa = MLEDisambiguator.pretrained('calima-msa-r13')\n",
    "\n",
    "# Initialize the D3 tokenizer for MSA\n",
    "msa_d3_tokenizer = MorphologicalTokenizer(disambiguator=mle_msa, scheme='d3tok',split=True)\n",
    "\n",
    "# Tokenize the text (includes preprocessing steps like normalization)\n",
    "d3_tokens = msa_d3_tokenizer.tokenize(tokens)\n",
    "print(d3_tokens)"
   ]
  },
  {
   "cell_type": "markdown",
   "id": "3d8e3897",
   "metadata": {},
   "source": [
    "##### ATB tokenization\n",
    "- it's pretty fast and it do what i want\n",
    "- i removed the '+' from the tokens"
   ]
  },
  {
   "cell_type": "code",
   "execution_count": 6,
   "id": "0b4aff23",
   "metadata": {},
   "outputs": [
    {
     "name": "stdout",
     "output_type": "stream",
     "text": [
      "ATB tokenization (MSA): ['.', 'يجب', 'أن', '+لا', 'تنطبق', 'على', 'مالك', 'البطاقة', 'شروط', 'الاستبعاد', 'من', 'التموين', '.', 'يجب', 'أن', 'يكون', 'المواطن', 'عضوا', 'في', 'البطاقة', 'و+', 'ليس', 'رب', 'الأسرة', '،', 'ل+', 'أن', 'رب', 'الأسرة', 'لا', 'يمكن', 'فصل', '+ه']\n"
     ]
    }
   ],
   "source": [
    "msa_atb_tokenizer = MorphologicalTokenizer(disambiguator=mle_msa, scheme='atbtok',split=True)\n",
    "msa_atb_tok = msa_atb_tokenizer.tokenize(tokens)\n",
    "\n",
    "cleaned_msa_atb_tok = [token.replace('+', '') for token in msa_atb_tok]\n",
    "\n",
    "print('ATB tokenization (MSA):', msa_atb_tok)\n"
   ]
  },
  {
   "cell_type": "markdown",
   "id": "06f5d8b5",
   "metadata": {},
   "source": [
    "i filtered out any token that it's length is not grater than 2"
   ]
  },
  {
   "cell_type": "code",
   "execution_count": 7,
   "id": "bf7109c3",
   "metadata": {},
   "outputs": [
    {
     "name": "stdout",
     "output_type": "stream",
     "text": [
      "['يجب', 'تنطبق', 'علي', 'مالك', 'البطاقه', 'شروط', 'الاستبعاد', 'التموين', 'يجب', 'يكون', 'المواطن', 'عضوا', 'البطاقه', 'ليس', 'الاسره', 'الاسره', 'يمكن', 'فصل']\n"
     ]
    }
   ],
   "source": [
    "filtered_norm_text = [normalize_arabic_text(i) for i in cleaned_msa_atb_tok if len(i) > 2]\n",
    "print(filtered_norm_text)"
   ]
  },
  {
   "cell_type": "markdown",
   "id": "44f5b42b",
   "metadata": {},
   "source": [
    "instead of this i will use stopword removal"
   ]
  },
  {
   "cell_type": "markdown",
   "id": "80911f1e",
   "metadata": {},
   "source": [
    "## Testing with `NLTK`"
   ]
  },
  {
   "cell_type": "code",
   "execution_count": 8,
   "id": "f9758e68",
   "metadata": {},
   "outputs": [
    {
     "name": "stdout",
     "output_type": "stream",
     "text": [
      "before:            .يجب ألا تنطبق على مالك البطاقة شروط الاستبعاد من التموين. يجب أن يكون المواطن عضوًا فى البطاقة وليس رب الأسرة، لأن رب الأسرة لا يمكن فصله\n",
      "ISRIStemmer norm:  . يجب الا تنطبق على مالك البطاقة شروط الاستبعاد من التموين . يجب ان يكون المواطن عضوا فى البطاقة وليس رب الأسرة ، لأن رب الأسرة لا يمكن فصله\n",
      "camel tools norm:  .يجب الا تنطبق علي مالك البطاقه شروط الاستبعاد من التموين. يجب ان يكون المواطن عضوا في البطاقه وليس رب الاسره، لان رب الاسره لا يمكن فصله\n",
      "ATB tokenization:  . يجب أن لا تنطبق على مالك البطاقة شروط الاستبعاد من التموين . يجب أن يكون المواطن عضوا في البطاقة و ليس رب الأسرة ، ل أن رب الأسرة لا يمكن فصل ه\n"
     ]
    }
   ],
   "source": [
    "from nltk.stem import ISRIStemmer\n",
    "\n",
    "tokens = simple_word_tokenize(text)\n",
    "print(\"before:           \", text)\n",
    "\n",
    "st = ISRIStemmer()\n",
    "print('ISRIStemmer norm: ', ' '.join([st.norm(i) for i in tokens]))\n",
    "\n",
    "print('camel tools norm: ',norm_text)\n",
    "print('ATB tokenization: ',' '.join(cleaned_msa_atb_tok))"
   ]
  }
 ],
 "metadata": {
  "kernelspec": {
   "display_name": ".venv",
   "language": "python",
   "name": "python3"
  },
  "language_info": {
   "codemirror_mode": {
    "name": "ipython",
    "version": 3
   },
   "file_extension": ".py",
   "mimetype": "text/x-python",
   "name": "python",
   "nbconvert_exporter": "python",
   "pygments_lexer": "ipython3",
   "version": "3.12.3"
  }
 },
 "nbformat": 4,
 "nbformat_minor": 5
}
