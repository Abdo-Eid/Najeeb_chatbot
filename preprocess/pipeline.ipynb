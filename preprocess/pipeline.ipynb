{
 "cells": [
  {
   "cell_type": "markdown",
   "id": "b4d81710",
   "metadata": {},
   "source": [
    "# load file "
   ]
  },
  {
   "cell_type": "code",
   "execution_count": 1,
   "id": "88aa23ed",
   "metadata": {},
   "outputs": [],
   "source": [
    "import json\n",
    "def load_data(file_path):\n",
    "        '''load json file and return data'''\n",
    "        with open(file_path, 'r', encoding='utf-8') as file:\n",
    "            data = json.load(file)\n",
    "            return data"
   ]
  },
  {
   "cell_type": "markdown",
   "id": "59b20b79",
   "metadata": {},
   "source": [
    "# preprocessing pipeline"
   ]
  },
  {
   "cell_type": "code",
   "execution_count": 2,
   "id": "d93c491b",
   "metadata": {},
   "outputs": [],
   "source": [
    "from camel_pipeline import preprocess_text\n",
    "text=\"تُمكّنك هذه الخدمة من تفعيل بطاقتك التموينية. الأسرة\"\n",
    "pre=preprocess_text(text)\n",
    "pre = \" \".join(pre)\n",
    "\n"
   ]
  },
  {
   "cell_type": "markdown",
   "id": "ef5f6ac6",
   "metadata": {},
   "source": [
    "# extract keywords from string\n",
    "- list of doument \n",
    "-"
   ]
  },
  {
   "cell_type": "code",
   "execution_count": 3,
   "id": "90d0abf8",
   "metadata": {},
   "outputs": [
    {
     "data": {
      "text/plain": [
       "[['تمكنك', 'تفعيل']]"
      ]
     },
     "execution_count": 3,
     "metadata": {},
     "output_type": "execute_result"
    }
   ],
   "source": [
    "from camel_pipeline import extract_keywords_tfidf\n",
    "extract_keywords_tfidf([pre])"
   ]
  },
  {
   "cell_type": "markdown",
   "id": "cbc743ce",
   "metadata": {},
   "source": [
    "# extract words \n",
    "- بنجمع كله مع بعض وناخد الحذر لو فيه اكتر من terms علشان كدا بنعملها join \n",
    "-بعدين بنضيف full text ل كل خدمه \n",
    "-وبعدين بنضيف short text عباره عن نفس اللي فات بس من غير terms \n",
    "-وبعدين بنتضرب علي full text علشان نكتر documents كتير علشان tfidf يبقي accurate اكتر \n",
    "-وبعدين يعمل transform علي shortwords ويطلع اكتر كلمتين مهمين "
   ]
  },
  {
   "cell_type": "code",
   "execution_count": 1,
   "id": "4ea32d9f",
   "metadata": {},
   "outputs": [],
   "source": [
    "import json\n",
    "from camel_pipeline import enrich_services_with_texts, extract_keywords_from_short_texts\n",
    "\n",
    "# Step 1: Load services from file\n",
    "with open(\"scraped_data.json\", \"r\", encoding=\"utf-8\") as f:\n",
    "    text = json.load(f)\n",
    "\n",
    "# Step 2: Enrich services with full_text and short_text\n",
    "enriched_services = enrich_services_with_texts(text)\n",
    "\n",
    "# Step 3: Extract top 2 keywords from short_text using full_text TF-IDF\n",
    "services_with_keywords = extract_keywords_from_short_texts(enriched_services)\n",
    "\n",
    "# Step 4: Save result\n",
    "with open(\"services_with_keywords.json\", \"w\", encoding=\"utf-8\") as f:\n",
    "    json.dump(services_with_keywords, f, ensure_ascii=False, indent=4)"
   ]
  }
 ],
 "metadata": {
  "kernelspec": {
   "display_name": "Python 3",
   "language": "python",
   "name": "python3"
  },
  "language_info": {
   "codemirror_mode": {
    "name": "ipython",
    "version": 3
   },
   "file_extension": ".py",
   "mimetype": "text/x-python",
   "name": "python",
   "nbconvert_exporter": "python",
   "pygments_lexer": "ipython3",
   "version": "3.12.3"
  }
 },
 "nbformat": 4,
 "nbformat_minor": 5
}
