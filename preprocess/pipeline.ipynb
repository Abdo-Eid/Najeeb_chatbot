{
 "cells": [
  {
   "cell_type": "markdown",
   "id": "b4d81710",
   "metadata": {},
   "source": [
    "# load file "
   ]
  },
  {
   "cell_type": "code",
   "execution_count": 1,
   "id": "88aa23ed",
   "metadata": {},
   "outputs": [],
   "source": [
    "import json\n",
    "def load_data(file_path):\n",
    "        '''load json file and return data'''\n",
    "        with open(file_path, 'r', encoding='utf-8') as file:\n",
    "            data = json.load(file)\n",
    "            return data"
   ]
  },
  {
   "cell_type": "markdown",
   "id": "59b20b79",
   "metadata": {},
   "source": [
    "# preprocessing pipeline"
   ]
  },
  {
   "cell_type": "code",
   "execution_count": 1,
   "id": "d93c491b",
   "metadata": {},
   "outputs": [
    {
     "data": {
      "text/plain": [
       "'تمكنك الخدمه تفعيل بطاقتك التموينيه الاسره'"
      ]
     },
     "execution_count": 1,
     "metadata": {},
     "output_type": "execute_result"
    }
   ],
   "source": [
    "from camel_pipeline import preprocess_text\n",
    "text=\"تُمكّنك هذه الخدمة من تفعيل بطاقتك التموينية. الأسرة\"\n",
    "pre=preprocess_text(text)\n",
    "pre = \" \".join(pre)\n",
    "\n",
    "pre"
   ]
  },
  {
   "cell_type": "markdown",
   "id": "ef5f6ac6",
   "metadata": {},
   "source": [
    "# extract keywords from string\n",
    "- list of doument \n",
    "-"
   ]
  },
  {
   "cell_type": "code",
   "execution_count": 2,
   "id": "90d0abf8",
   "metadata": {},
   "outputs": [
    {
     "data": {
      "text/plain": [
       "[['تمكنك', 'تفعيل']]"
      ]
     },
     "execution_count": 2,
     "metadata": {},
     "output_type": "execute_result"
    }
   ],
   "source": [
    "from camel_pipeline import extract_keywords_tfidf\n",
    "extract_keywords_tfidf([pre])"
   ]
  },
  {
   "cell_type": "markdown",
   "id": "cbc743ce",
   "metadata": {},
   "source": [
    "# extract words \n",
    "- بنجمع كله مع بعض وناخد الحذر لو فيه اكتر من terms علشان كدا بنعملها join \n",
    "-بعدين بنضيف full text ل كل خدمه \n",
    "-وبعدين بنضيف short text عباره عن نفس اللي فات بس من غير terms \n",
    "-وبعدين بنتضرب علي full text علشان نكتر documents كتير علشان tfidf يبقي accurate اكتر \n",
    "-وبعدين يعمل transform علي shortwords ويطلع اكتر كلمتين مهمين "
   ]
  },
  {
   "cell_type": "code",
   "execution_count": 2,
   "id": "4ea32d9f",
   "metadata": {},
   "outputs": [],
   "source": [
    "import json\n",
    "import pickle\n",
    "from camel_pipeline import enrich_services_with_texts, extract_keywords_from_short_texts_with_vectorizer\n",
    "from scipy import sparse\n",
    "\n",
    "# Step 1: Load services\n",
    "with open(\"../scrape/scraped_services_data.json\", \"r\", encoding=\"utf-8\") as f:\n",
    "    text = json.load(f)\n",
    "\n",
    "# Step 2: Enrich with full_text & short_text\n",
    "enriched_services = enrich_services_with_texts(text)\n",
    "\n",
    "# Step 3: Extract keywords and get trained vectorizer\n",
    "services_with_keywords, vectorizer = extract_keywords_from_short_texts_with_vectorizer(enriched_services)\n",
    "\n",
    "# Step 3.5: Create and save TF-IDF matrix for full_text (for fast similarity search)\n",
    "full_texts = [\n",
    "    \" \".join(service[\"full_text\"]) if isinstance(service[\"full_text\"], list) else service[\"full_text\"]\n",
    "    for service in services_with_keywords\n",
    "]\n",
    "tfidf_matrix = vectorizer.transform(full_texts)\n",
    "\n",
    "# Save the TF-IDF matrix as sparse npz file\n",
    "sparse.save_npz(\"service_tfidf_matrix.npz\", tfidf_matrix)\n",
    "\n",
    "# Step 4: Save keywords + services\n",
    "with open(\"services_with_keywords.json\", \"w\", encoding=\"utf-8\") as f:\n",
    "    json.dump(services_with_keywords, f, ensure_ascii=False, indent=4)\n",
    "\n",
    "# Step 5: Save the trained TF-IDF model\n",
    "with open(\"tfidf_vectorizer.pkl\", \"wb\") as f:\n",
    "    pickle.dump(vectorizer, f)\n"
   ]
  },
  {
   "cell_type": "code",
   "execution_count": null,
   "id": "90741abe",
   "metadata": {},
   "outputs": [],
   "source": []
  }
 ],
 "metadata": {
  "kernelspec": {
   "display_name": ".venv",
   "language": "python",
   "name": "python3"
  },
  "language_info": {
   "codemirror_mode": {
    "name": "ipython",
    "version": 3
   },
   "file_extension": ".py",
   "mimetype": "text/x-python",
   "name": "python",
   "nbconvert_exporter": "python",
   "pygments_lexer": "ipython3",
   "version": "3.10.17"
  }
 },
 "nbformat": 4,
 "nbformat_minor": 5
}
