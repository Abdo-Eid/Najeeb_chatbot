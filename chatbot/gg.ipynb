{
 "cells": [
  {
   "cell_type": "markdown",
   "id": "087c5c8d",
   "metadata": {},
   "source": [
    "✅ 1. Test Greeting (should match rule-based)"
   ]
  },
  {
   "cell_type": "code",
   "execution_count": 4,
   "id": "407395f7",
   "metadata": {},
   "outputs": [
    {
     "name": "stdout",
     "output_type": "stream",
     "text": [
      "{'response': {'response': 'وعليكم السلام', 'type': 'rule'}}\n"
     ]
    }
   ],
   "source": [
    "import requests\n",
    "\n",
    "response = requests.post(\"http://127.0.0.1:5000/chat\", json={\"message\": \"السلام عليكم\"})\n",
    "print(response.json())\n"
   ]
  },
  {
   "cell_type": "markdown",
   "id": "e5138d8f",
   "metadata": {},
   "source": [
    "✅ 2. Test Real Query (should match TF-IDF stub)"
   ]
  },
  {
   "cell_type": "code",
   "execution_count": 5,
   "id": "766b1015",
   "metadata": {},
   "outputs": [
    {
     "name": "stdout",
     "output_type": "stream",
     "text": [
      "{'response': {'data': {'category': 'التموين', 'description': 'تُمكّنك هذه الخدمة من تفعيل بطاقتك التموينية', 'keywords': ['تفعيل', 'تموين', 'بطاقتك', 'التموينيه'], 'service_name': 'تفعيل بطاقة تموين', 'service_url': 'https://digital.gov.eg/categories/terms/تفعيل-بطاقة-تموين', 'terms': ['مالك البطاقة فقط (رب الأسرة) المؤهل لطلب الخدمة', 'يجب أن تكون البطاقة قد سٌلًمت للمواطن']}, 'type': 'tfidf'}}\n"
     ]
    }
   ],
   "source": [
    "import requests\n",
    "\n",
    "response = requests.post(\"http://127.0.0.1:5000/chat\", json={\"message\": \"اريد تفعيل بطاقة التموين\"})\n",
    "print(response.json())\n"
   ]
  },
  {
   "cell_type": "markdown",
   "id": "700127e9",
   "metadata": {},
   "source": [
    "✅ 3. Test Unknown Input (should fallback)\n"
   ]
  },
  {
   "cell_type": "code",
   "execution_count": 6,
   "id": "6111942e",
   "metadata": {},
   "outputs": [
    {
     "name": "stdout",
     "output_type": "stream",
     "text": [
      "{'response': {'response': 'عذراً، لم أفهم سؤالك.', 'type': 'default'}}\n"
     ]
    }
   ],
   "source": [
    "import requests\n",
    "\n",
    "response = requests.post(\"http://127.0.0.1:5000/chat\", json={\"message\": \"كائن فضائي جاء للمنزل\"})\n",
    "print(response.json())\n"
   ]
  }
 ],
 "metadata": {
  "kernelspec": {
   "display_name": ".venv",
   "language": "python",
   "name": "python3"
  },
  "language_info": {
   "codemirror_mode": {
    "name": "ipython",
    "version": 3
   },
   "file_extension": ".py",
   "mimetype": "text/x-python",
   "name": "python",
   "nbconvert_exporter": "python",
   "pygments_lexer": "ipython3",
   "version": "3.10.17"
  }
 },
 "nbformat": 4,
 "nbformat_minor": 5
}
